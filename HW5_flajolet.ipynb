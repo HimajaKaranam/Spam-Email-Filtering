{
 "cells": [
  {
   "cell_type": "code",
   "execution_count": 31,
   "metadata": {},
   "outputs": [],
   "source": [
    "from bitarray import bitarray\n",
    "from statistics import median\n",
    "from math import ceil"
   ]
  },
  {
   "cell_type": "code",
   "execution_count": 32,
   "metadata": {
    "collapsed": true
   },
   "outputs": [],
   "source": [
    "import mmh3\n",
    "import jhashcode\n",
    "import xxhash\n",
    "from spooky import hash32"
   ]
  },
  {
   "cell_type": "code",
   "execution_count": 33,
   "metadata": {
    "collapsed": true
   },
   "outputs": [],
   "source": [
    "files=   ['quotes_2008-08.txt', 'quotes_2008-09.txt', 'quotes_2008-10.txt', 'quotes_2008-11.txt', 'quotes_2008-12.txt',\n",
    "                'quotes_2009-01.txt', 'quotes_2009-02.txt', 'quotes_2009-03.txt', 'quotes_2009-04.txt']\n",
    "hash_file = [\"hash1.txt\", \"hash2.txt\", \"hash3.txt\", \"hash4.txt\"]"
   ]
  },
  {
   "cell_type": "code",
   "execution_count": 34,
   "metadata": {
    "collapsed": true
   },
   "outputs": [],
   "source": [
    "def trailing_zeroes(binary_rep):\n",
    "    s=str(binary_rep)\n",
    "    cnt=len(s)-len(s.rstrip('0'))\n",
    "    return cnt"
   ]
  },
  {
   "cell_type": "code",
   "execution_count": 35,
   "metadata": {},
   "outputs": [],
   "source": [
    "max_val_hash=[0,0,0,0]\n",
    "for i in range(4):\n",
    "    with open(hash_file[i]) as hash_f:\n",
    "        for f in hash_f:\n",
    "            r_value = int(f.rstrip('\\n'))\n",
    "            if(r_value > max_val_hash[i]):\n",
    "                max_val_hash[i] = r_value\n",
    "        hash_f.close()\n",
    "hash12_avg = (2**(max_val_hash[0]) + 2**(max_val_hash[1]))/ float(2)\n",
    "hash34_avg = (2**(max_val_hash[2]) + 2**(max_val_hash[3]))/ float(2)\n",
    "distinct_quotes= ceil(median([hash12_avg, hash34_avg]))"
   ]
  },
  {
   "cell_type": "code",
   "execution_count": null,
   "metadata": {},
   "outputs": [],
   "source": [
    "with open(hash_file[0],'w') as hash1, open(hash_file[1],'w') as hash2,open(hash_file[2],'w') as hash3,open(hash_file[3],'w') as hash4:\n",
    "    for i in files:\n",
    "        X=open(i,'r',encoding='ISO-8859-1')\n",
    "        for j in X:\n",
    "            temp= j.split(\"\\t\")\n",
    "            if temp[0] is 'Q':\n",
    "                hashval1= abs(xxhash.xxh32(temp[1]).intdigest())\n",
    "                binaryval1= format(hashval1,'032b')\n",
    "                hash1.write(\"%s\\n\"% str(trailing_zeroes(binaryval1)))\n",
    "                hashval2= abs(hash32(temp[1]))\n",
    "                binaryval2= format(hashval2,'032b')\n",
    "                hash2.write(\"%s\\n\"% str(trailing_zeroes(binaryval2)))\n",
    "                hashval3= abs(jhashcode.hashcode(temp[1]))\n",
    "                binaryval3= format(hashval3,'032b')\n",
    "                hash3.write(\"%s\\n\"% str(trailing_zeroes(binaryval3)))\n",
    "                hashval4= abs(mmh3.hash(temp[1]))\n",
    "                binaryval4=format(hashval4,'032b')\n",
    "                hash4.write(\"%s\\n\"% str(trailing_zeroes(binaryval4)))"
   ]
  },
  {
   "cell_type": "code",
   "execution_count": null,
   "metadata": {},
   "outputs": [ {
     "name": "stdout",
     "output_type": "stream",
     "text": [
      "Distinct Quotes: 102937984\n"
     ]
    }],
   "source": [
    "print(\"estimated distinct quotes : %d\" %distinct_quotes)"
   ]
  },
  {
   "cell_type": "code",
   "execution_count": null,
   "metadata": {
    "collapsed": true
   },
   "outputs": [],
   "source": []
  }
 ],
 "metadata": {
  "kernelspec": {
   "display_name": "Python 3",
   "language": "python",
   "name": "python3"
  },
  "language_info": {
   "codemirror_mode": {
    "name": "ipython",
    "version": 3
   },
   "file_extension": ".py",
   "mimetype": "text/x-python",
   "name": "python",
   "nbconvert_exporter": "python",
   "pygments_lexer": "ipython3",
   "version": "3.6.3"
  }
 },
 "nbformat": 4,
 "nbformat_minor": 2
}
